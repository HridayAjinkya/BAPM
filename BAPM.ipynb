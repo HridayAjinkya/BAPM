{
 "cells": [
  {
   "cell_type": "markdown",
   "id": "4b02d34b-34b1-4df9-93fe-9f0d68161493",
   "metadata": {},
   "source": [
    "Binomial Asset Pricing Model Project"
   ]
  },
  {
   "cell_type": "code",
   "execution_count": 1,
   "id": "516c929b-7fb9-4459-b499-ed71ba6f16dd",
   "metadata": {},
   "outputs": [],
   "source": [
    "import numpy as np"
   ]
  },
  {
   "cell_type": "code",
   "execution_count": 2,
   "id": "f639152a-b705-4704-8811-cf090e3fcf01",
   "metadata": {},
   "outputs": [],
   "source": [
    "def bapm(S0, K, N, r, u, d, opt_type = 'C'):\n",
    "    # calc risk free probabilities\n",
    "    p_tilda = (1 + r - d) / (u - d)\n",
    "    q_tilda = 1 - p_tilda\n",
    "\n",
    "    # calc asset price at maturity\n",
    "    S = np.zeros(N+1)\n",
    "    S[0] = S0 * (u ** N)\n",
    "    for i in range(1, N+1):\n",
    "        S[i] = S[i-1] * d / u\n",
    "    \n",
    "    # calc option at maturity\n",
    "    V = np.zeros(N+1)\n",
    "    for i in range(N+1):\n",
    "        if opt_type == 'C':\n",
    "            V[i] = max(0, S[i] - K)\n",
    "        else:\n",
    "            V[i] = max(0, K - S[i])\n",
    "    \n",
    "    # step back through tree\n",
    "    for i in range(N, 0, -1):\n",
    "        for j in range(i):\n",
    "            V[j] = (1 / (1 + r)) * (p_tilda * V[j] + q_tilda * V[j+1])\n",
    "\n",
    "    return V[0]\n",
    "        "
   ]
  },
  {
   "cell_type": "code",
   "execution_count": 3,
   "id": "1c2a9ee5-cc4a-4669-9d6f-15262300e989",
   "metadata": {},
   "outputs": [
    {
     "data": {
      "text/plain": [
       "4.774052478134126"
      ]
     },
     "execution_count": 3,
     "metadata": {},
     "output_type": "execute_result"
    }
   ],
   "source": [
    "bapm(100, 120, 3, .05, 1.1, .9, 'C')"
   ]
  },
  {
   "cell_type": "code",
   "execution_count": 26,
   "id": "432e9ccf-bbf9-4bcb-8831-275af7e08c23",
   "metadata": {},
   "outputs": [
    {
     "data": {
      "text/plain": [
       "1.7600000000000002"
      ]
     },
     "execution_count": 26,
     "metadata": {},
     "output_type": "execute_result"
    }
   ],
   "source": [
    "bapm(4, 5, 2, .25, 2, .5, 'C')"
   ]
  },
  {
   "cell_type": "code",
   "execution_count": 27,
   "id": "f7c870b9-8c5d-4c6b-8c59-92580b402a44",
   "metadata": {},
   "outputs": [
    {
     "data": {
      "text/plain": [
       "4.4"
      ]
     },
     "execution_count": 27,
     "metadata": {},
     "output_type": "execute_result"
    }
   ],
   "source": [
    "bapm(10, 9, 1, .05, 3, .5, 'C')"
   ]
  },
  {
   "cell_type": "code",
   "execution_count": 4,
   "id": "35605c40-d8b8-484b-926c-7f6fa83be361",
   "metadata": {},
   "outputs": [
    {
     "data": {
      "text/plain": [
       "2.271604938271606"
      ]
     },
     "execution_count": 4,
     "metadata": {},
     "output_type": "execute_result"
    }
   ],
   "source": [
    "bapm(8, 10, 2, .2, 2, .5, 'P')"
   ]
  }
 ],
 "metadata": {
  "kernelspec": {
   "display_name": "Python 3 (ipykernel)",
   "language": "python",
   "name": "python3"
  },
  "language_info": {
   "codemirror_mode": {
    "name": "ipython",
    "version": 3
   },
   "file_extension": ".py",
   "mimetype": "text/x-python",
   "name": "python",
   "nbconvert_exporter": "python",
   "pygments_lexer": "ipython3",
   "version": "3.10.8"
  }
 },
 "nbformat": 4,
 "nbformat_minor": 5
}
